{
  "nbformat": 4,
  "nbformat_minor": 0,
  "metadata": {
    "colab": {
      "provenance": []
    },
    "kernelspec": {
      "name": "python3",
      "display_name": "Python 3"
    },
    "language_info": {
      "name": "python"
    }
  },
  "cells": [
    {
      "cell_type": "markdown",
      "source": [
        "#Data types and structure Assignment\n"
      ],
      "metadata": {
        "id": "o3o_vGUjaonQ"
      }
    },
    {
      "cell_type": "markdown",
      "source": [
        "# Theory Question"
      ],
      "metadata": {
        "id": "UiGZdBK3ny8A"
      }
    },
    {
      "cell_type": "markdown",
      "source": [
        "Q1. What are data structure, and why are they important?\n",
        "\n",
        "Ans -> Data structure are organised ways to store manages and manipulate data efficiently. they are importanat because they help optimize algorithms improve performance and allow for efficient data retrieval and storage.\n"
      ],
      "metadata": {
        "id": "d7tBo1y8dCqe"
      }
    },
    {
      "cell_type": "markdown",
      "source": [
        "Q2. Explain the difference between mutable and immutable data types with examples.\n",
        "\n",
        "Ans->  Mutable data types can be modified after creation (e.g., lists, dictionaries, sets in Python).\n",
        "\n",
        "Immutable data types cannot be changed after creation (e.g., strings, tuples, numbers in Python)."
      ],
      "metadata": {
        "id": "5e-OXUqRhHU3"
      }
    },
    {
      "cell_type": "markdown",
      "source": [
        "Q3. What are the main differences between lists and tuples in Python?\n",
        "\n",
        "Ans->\n",
        "Lists are mutable, while tuples are immutable.\n",
        "\n",
        "Lists use more memory due to dynamic allocation, whereas tuples use less memory.\n",
        "\n",
        "Tuples provide faster iteration compared to lists."
      ],
      "metadata": {
        "id": "gRc2KDo4dBX0"
      }
    },
    {
      "cell_type": "markdown",
      "source": [
        "Q4. Describe how dictionaries store data.\n",
        "\n",
        "Ans -> Dictionaries store data as key-value pairs using a hash table, ensuring quick access based on unique keys."
      ],
      "metadata": {
        "id": "uUoLu9dhhx9X"
      }
    },
    {
      "cell_type": "markdown",
      "source": [
        "Q5. Why might you use a set instead of a list in Python?\n",
        "\n",
        "Ans-> Sets are used when unique elements are required and when faster lookup operations are needed compared to lists."
      ],
      "metadata": {
        "id": "MRWlZzWviLE_"
      }
    },
    {
      "cell_type": "markdown",
      "source": [
        "Q6. What is a string in Python, and how is it different from a list?\n",
        "\n",
        "Ans-> A string is an immutable sequence of characters, whereas a list is mutable and can store multiple data types."
      ],
      "metadata": {
        "id": "bhxHjGkGiZYH"
      }
    },
    {
      "cell_type": "markdown",
      "source": [
        "Q7. How do tuples ensure data integrity in Python?\n",
        "\n",
        "Ans-> Tuples are immutable, meaning their elements cannot be changed, preventing accidental modifications."
      ],
      "metadata": {
        "id": "A01h-9jeiZl8"
      }
    },
    {
      "cell_type": "markdown",
      "source": [
        "Q8. What is a hash table, and how does it relate to dictionaries in Python?\n",
        "\n",
        "Ans ->\n",
        "A hash table is a data structure that maps keys to values using a hashing function. Python dictionaries use hash tables for efficient key-based lookups."
      ],
      "metadata": {
        "id": "9XFKI8dRiZzR"
      }
    },
    {
      "cell_type": "markdown",
      "source": [
        "Q9. Can lists contain different data types in Python?\n",
        "\n",
        "Ans ->\n",
        "Yes, lists in Python can hold elements of different data types."
      ],
      "metadata": {
        "id": "2G6Mwq42iZ99"
      }
    },
    {
      "cell_type": "markdown",
      "source": [
        "Q10. Explain why strings are immutable in Python\n",
        "\n",
        "Ans -> Strings are immutable to optimize memory usage and performance and to ensure thread safety."
      ],
      "metadata": {
        "id": "dfTvR8YViaFO"
      }
    },
    {
      "cell_type": "markdown",
      "source": [
        "Q11. What advantages do dictionaries offer over lists for certain tasks?\n",
        "\n",
        "Ans -> Dictionaries provide faster lookups, efficient data retrieval, and better organization through key-value pairs."
      ],
      "metadata": {
        "id": "VX6qO3EIiaLs"
      }
    },
    {
      "cell_type": "markdown",
      "source": [
        "Q12. Describe a scenario where using a tuple would be preferable over a list.\n",
        "\n",
        "Ans ->\n",
        "Tuples are preferable for storing fixed collections of items, such as coordinates (x, y) or database records."
      ],
      "metadata": {
        "id": "FND_bBPZiaOb"
      }
    },
    {
      "cell_type": "markdown",
      "source": [
        "Q13. How do sets handle duplicate values in Python?\n",
        "\n",
        "Ans ->\n",
        "Sets automatically remove duplicate values, ensuring each element is unique."
      ],
      "metadata": {
        "id": "aFVdt0tKiaRE"
      }
    },
    {
      "cell_type": "markdown",
      "source": [
        "Q14. How does the “in” keyword work differently for lists and dictionaries?\n",
        "\n",
        "Ans ->\n",
        "In lists, it checks for the presence of an element. In dictionaries, it checks for the presence of a key."
      ],
      "metadata": {
        "id": "LnuUicFNiaUi"
      }
    },
    {
      "cell_type": "markdown",
      "source": [
        "Q15. Can you modify the elements of a tuple? Explain why or why not.\n",
        "\n",
        "Ans -> No, tuples are immutable, meaning their elements cannot be changed after creation."
      ],
      "metadata": {
        "id": "RCDzUXJbiaXF"
      }
    },
    {
      "cell_type": "markdown",
      "source": [
        "Q16. What is a nested dictionary, and give an example of its use case\n",
        "\n",
        "Ans ->  A nested dictionary is a dictionary within another dictionary.\n",
        "\n",
        "for example"
      ],
      "metadata": {
        "id": "Uj1_Xw4IiaZ_"
      }
    },
    {
      "cell_type": "code",
      "source": [
        "company = {\n",
        "    \"employee1\":{\"name\":\"vishal\",\"age\":30},\n",
        "    \"employye2\":{\"name\":\"sandip\",\"age\":28}\n",
        "}\n",
        "print(company[\"employee1\"][\"name\"])"
      ],
      "metadata": {
        "colab": {
          "base_uri": "https://localhost:8080/"
        },
        "id": "Gr8eC5nLk5Gu",
        "outputId": "ab3c93d7-1aca-4ef7-9b15-d5157896ddee"
      },
      "execution_count": null,
      "outputs": [
        {
          "output_type": "stream",
          "name": "stdout",
          "text": [
            "vishal\n"
          ]
        }
      ]
    },
    {
      "cell_type": "markdown",
      "source": [
        "Q17. Describe the time complexity of accessing elements in a dictionary\n",
        "\n",
        "Ans -> Accessing elements in a dictionary has an average time complexity of O(1) due to hash table implementation."
      ],
      "metadata": {
        "id": "6dRXG1qxkJI0"
      }
    },
    {
      "cell_type": "markdown",
      "source": [
        "Q18. In what situations are lists preferred over dictionaries?\n",
        "\n",
        "Ans ->\n",
        "Lists are preferred when order matters, and when elements need to be accessed by index rather than key."
      ],
      "metadata": {
        "id": "lIhVkHq-kJLq"
      }
    },
    {
      "cell_type": "markdown",
      "source": [
        "Q19. Why are dictionaries considered unordered, and how does that affect data retrieval?\n",
        "\n",
        "Ans -> Dictionaries store data in hash tables, meaning key-value pairs are not stored in a specific order, making sequential access less predictable.\n"
      ],
      "metadata": {
        "id": "p-78cMxokJOR"
      }
    },
    {
      "cell_type": "markdown",
      "source": [
        "Q20. Explain the difference between a list and a dictionary in terms of data retrieval.\n",
        "\n",
        "Ans ->  \n",
        "Lists retrieve elements by index, while dictionaries retrieve values by key, making dictionary lookups generally faster."
      ],
      "metadata": {
        "id": "ukueOK77kJRB"
      }
    },
    {
      "cell_type": "markdown",
      "source": [
        "# Practical Questrion\n"
      ],
      "metadata": {
        "id": "4098WcypkJUm"
      }
    },
    {
      "cell_type": "markdown",
      "source": [
        "Q1. Write a code to create a string with your name and print it."
      ],
      "metadata": {
        "id": "MCIJK6Fkiadg"
      }
    },
    {
      "cell_type": "code",
      "source": [
        "name = \"Vishal Kharat\"\n",
        "print(name)"
      ],
      "metadata": {
        "colab": {
          "base_uri": "https://localhost:8080/"
        },
        "id": "MUmz6_hZoO6X",
        "outputId": "ee4a2253-b5cb-4297-9d93-df101c0c666f"
      },
      "execution_count": null,
      "outputs": [
        {
          "output_type": "stream",
          "name": "stdout",
          "text": [
            "Vishal Kharat\n"
          ]
        }
      ]
    },
    {
      "cell_type": "markdown",
      "source": [
        "Q2.  Write a code to find the length of the string \"Hello World\"."
      ],
      "metadata": {
        "id": "49ZQ-uZqoPRh"
      }
    },
    {
      "cell_type": "code",
      "source": [
        "name = \"Hello world\"\n",
        "print(len(name))"
      ],
      "metadata": {
        "colab": {
          "base_uri": "https://localhost:8080/"
        },
        "id": "GqYdW6EIoPhb",
        "outputId": "a3f4f643-d93b-47c9-dbbf-1f6449a5af55"
      },
      "execution_count": null,
      "outputs": [
        {
          "output_type": "stream",
          "name": "stdout",
          "text": [
            "11\n"
          ]
        }
      ]
    },
    {
      "cell_type": "markdown",
      "source": [
        "Q3. Write a code to slice the first 3 characters from the string \"Python Programming\"."
      ],
      "metadata": {
        "id": "i2-Y1VCFoPww"
      }
    },
    {
      "cell_type": "code",
      "source": [
        "a = \"Python Programming\"\n",
        "print(a[:3])"
      ],
      "metadata": {
        "colab": {
          "base_uri": "https://localhost:8080/"
        },
        "id": "RhouaChIoP_h",
        "outputId": "200cc2a9-769a-463e-ba10-310c3e23b6cf"
      },
      "execution_count": null,
      "outputs": [
        {
          "output_type": "stream",
          "name": "stdout",
          "text": [
            "Pyt\n"
          ]
        }
      ]
    },
    {
      "cell_type": "markdown",
      "source": [
        "Q4.  Write a code to convert the string \"hello\" to uppercase."
      ],
      "metadata": {
        "id": "GiWiq5u0oQME"
      }
    },
    {
      "cell_type": "code",
      "source": [
        "a = \"hello\"\n",
        "print(a.upper())"
      ],
      "metadata": {
        "colab": {
          "base_uri": "https://localhost:8080/"
        },
        "id": "g2bRjWCboQax",
        "outputId": "b4234043-11b8-4162-b896-0eb4b46bef96"
      },
      "execution_count": null,
      "outputs": [
        {
          "output_type": "stream",
          "name": "stdout",
          "text": [
            "HELLO\n"
          ]
        }
      ]
    },
    {
      "cell_type": "markdown",
      "source": [
        "Q5. Write a code to replace the word \"apple\" with \"orange\" in the string \"I like apple\"."
      ],
      "metadata": {
        "id": "Emp5HYx5oQnv"
      }
    },
    {
      "cell_type": "code",
      "source": [
        "a = \"I like apple\"\n",
        "print(a.replace(\"apple\", \"orange\"))"
      ],
      "metadata": {
        "colab": {
          "base_uri": "https://localhost:8080/"
        },
        "id": "Ig1vRnlloQ8-",
        "outputId": "bb32dbb9-5c46-4212-b8f3-62a016549a2f"
      },
      "execution_count": null,
      "outputs": [
        {
          "output_type": "stream",
          "name": "stdout",
          "text": [
            "I like orange\n"
          ]
        }
      ]
    },
    {
      "cell_type": "markdown",
      "source": [
        "Q6. Write a code to create a list with numbers 1 to 5 and print it."
      ],
      "metadata": {
        "id": "W2JT1GKGoROa"
      }
    },
    {
      "cell_type": "code",
      "source": [
        "List_numbers=[1,2,3,4,5]\n",
        "print(List_numbers)"
      ],
      "metadata": {
        "colab": {
          "base_uri": "https://localhost:8080/"
        },
        "id": "k0hXZXhMoRf8",
        "outputId": "33003742-6530-4294-9bdb-270f5c7814aa"
      },
      "execution_count": null,
      "outputs": [
        {
          "output_type": "stream",
          "name": "stdout",
          "text": [
            "[1, 2, 3, 4, 5]\n"
          ]
        }
      ]
    },
    {
      "cell_type": "markdown",
      "source": [
        "Q7.  Write a code to append the number 10 to the list [1, 2, 3, 4]."
      ],
      "metadata": {
        "id": "ZW2HUNPxoRvS"
      }
    },
    {
      "cell_type": "code",
      "source": [
        "list = [1,2,3,4]\n",
        "list.append(10)\n",
        "print(list)"
      ],
      "metadata": {
        "colab": {
          "base_uri": "https://localhost:8080/"
        },
        "id": "cI0WQ4PyoSBT",
        "outputId": "7afc1ea0-e6fb-4054-e1a5-8688de7a8fbc"
      },
      "execution_count": null,
      "outputs": [
        {
          "output_type": "stream",
          "name": "stdout",
          "text": [
            "[1, 2, 3, 4, 10]\n"
          ]
        }
      ]
    },
    {
      "cell_type": "markdown",
      "source": [
        "Q8.  Write a code to remove the number 3 from the list [1, 2, 3, 4, 5]"
      ],
      "metadata": {
        "id": "fRUvQ9YfoSQD"
      }
    },
    {
      "cell_type": "code",
      "source": [
        "list = [1,2,3,4,5]\n",
        "list.remove(3)\n",
        "print(list)\n"
      ],
      "metadata": {
        "colab": {
          "base_uri": "https://localhost:8080/"
        },
        "id": "bqTboWpQoShe",
        "outputId": "35d62d9a-3b31-4777-fbb7-2911fedc10b2"
      },
      "execution_count": null,
      "outputs": [
        {
          "output_type": "stream",
          "name": "stdout",
          "text": [
            "[1, 2, 4, 5]\n"
          ]
        }
      ]
    },
    {
      "cell_type": "markdown",
      "source": [
        "Q9.  Write a code to access the second element in the list ['a', 'b', 'c', 'd']"
      ],
      "metadata": {
        "id": "gSSnib5jpGrm"
      }
    },
    {
      "cell_type": "code",
      "source": [
        "list = ['a','b','c','d']\n",
        "print(list[1])"
      ],
      "metadata": {
        "colab": {
          "base_uri": "https://localhost:8080/"
        },
        "id": "C6LeMbOioTCf",
        "outputId": "aa8cd550-e880-453b-a745-38c5b5c744f7"
      },
      "execution_count": null,
      "outputs": [
        {
          "output_type": "stream",
          "name": "stdout",
          "text": [
            "b\n"
          ]
        }
      ]
    },
    {
      "cell_type": "markdown",
      "source": [
        "Q10. Write a code to reverse the list [10, 20, 30, 40, 50]."
      ],
      "metadata": {
        "id": "I6metFnvoTRx"
      }
    },
    {
      "cell_type": "code",
      "source": [
        "list=[10,20,30,40,50]\n",
        "list.reverse()\n",
        "print(list)"
      ],
      "metadata": {
        "colab": {
          "base_uri": "https://localhost:8080/"
        },
        "id": "Om83zFXJoThO",
        "outputId": "d143b129-0174-480c-a75e-64943d7484e3"
      },
      "execution_count": null,
      "outputs": [
        {
          "output_type": "stream",
          "name": "stdout",
          "text": [
            "[50, 40, 30, 20, 10]\n"
          ]
        }
      ]
    },
    {
      "cell_type": "markdown",
      "source": [
        "Q11. Write a code to create a tuple with the elements 100, 200, 300 and print it."
      ],
      "metadata": {
        "id": "jQ7_XusfoTyI"
      }
    },
    {
      "cell_type": "code",
      "source": [
        "tuple=(100, 200, 300)\n",
        "print(tuple)"
      ],
      "metadata": {
        "colab": {
          "base_uri": "https://localhost:8080/"
        },
        "id": "UwTUVThmoUBS",
        "outputId": "bb2988ca-80b6-460a-b53a-886d9e820d66"
      },
      "execution_count": null,
      "outputs": [
        {
          "output_type": "stream",
          "name": "stdout",
          "text": [
            "(100, 200, 300)\n"
          ]
        }
      ]
    },
    {
      "cell_type": "markdown",
      "source": [
        "Q12.  Write a code to access the second-to-last element of the tuple ('red', 'green', 'blue', 'yellow')."
      ],
      "metadata": {
        "id": "i3KpMt-coUPO"
      }
    },
    {
      "cell_type": "code",
      "source": [
        "tuple = ('red' , 'green', 'blue', 'yellow')\n",
        "print(tuple[-2])"
      ],
      "metadata": {
        "colab": {
          "base_uri": "https://localhost:8080/"
        },
        "id": "v_hLs2nloUfi",
        "outputId": "f591dfc8-a875-4ebe-d960-f281c5c1a7e0"
      },
      "execution_count": null,
      "outputs": [
        {
          "output_type": "stream",
          "name": "stdout",
          "text": [
            "blue\n"
          ]
        }
      ]
    },
    {
      "cell_type": "markdown",
      "source": [
        "Q13.  Write a code to find the minimum number in the tuple (10, 20, 5, 15)."
      ],
      "metadata": {
        "id": "pyxvKgosoU0D"
      }
    },
    {
      "cell_type": "code",
      "source": [
        "tuple = (10, 20, 5, 15)\n",
        "print(min(tuple))"
      ],
      "metadata": {
        "id": "i4bLkL-3oVD-",
        "colab": {
          "base_uri": "https://localhost:8080/"
        },
        "outputId": "6725134b-d36b-4889-985c-19108c129a72"
      },
      "execution_count": null,
      "outputs": [
        {
          "output_type": "stream",
          "name": "stdout",
          "text": [
            "5\n"
          ]
        }
      ]
    },
    {
      "cell_type": "markdown",
      "source": [
        "Q14.  Write a code to find the index of the element \"cat\" in the tuple ('dog', 'cat', 'rabbit')."
      ],
      "metadata": {
        "id": "Da1K-OI0aa86"
      }
    },
    {
      "cell_type": "code",
      "source": [
        "tuple = ('dog', 'cat', 'Rabbit')\n",
        "print(tuple.index('cat'))"
      ],
      "metadata": {
        "colab": {
          "base_uri": "https://localhost:8080/"
        },
        "id": "23Tng7wBabgH",
        "outputId": "84dde2b9-efe6-41d2-bfd6-1326a9426cba"
      },
      "execution_count": null,
      "outputs": [
        {
          "output_type": "stream",
          "name": "stdout",
          "text": [
            "1\n"
          ]
        }
      ]
    },
    {
      "cell_type": "markdown",
      "source": [
        "Q15. Write a code to create a tuple containing three different fruits and check if \"kiwi\" is in it."
      ],
      "metadata": {
        "id": "WiaOwmK-psqA"
      }
    },
    {
      "cell_type": "code",
      "source": [
        "tuple = ('Apple', 'Banana', 'Mango')\n",
        "print('kiwi' in tuple)"
      ],
      "metadata": {
        "id": "YRQZZFMTps5O",
        "colab": {
          "base_uri": "https://localhost:8080/"
        },
        "outputId": "d4731c5d-6710-4331-a713-5a69aca421ea"
      },
      "execution_count": null,
      "outputs": [
        {
          "output_type": "stream",
          "name": "stdout",
          "text": [
            "False\n"
          ]
        }
      ]
    },
    {
      "cell_type": "code",
      "source": [
        "tuple = ('Apple', 'kiwi', 'Mango')\n",
        "print('kiwi' in tuple)"
      ],
      "metadata": {
        "colab": {
          "base_uri": "https://localhost:8080/"
        },
        "id": "Tyeb5cvdcOXd",
        "outputId": "bddd768c-f9d8-4e19-b261-effcfbf82f48"
      },
      "execution_count": null,
      "outputs": [
        {
          "output_type": "stream",
          "name": "stdout",
          "text": [
            "True\n"
          ]
        }
      ]
    },
    {
      "cell_type": "markdown",
      "source": [
        "Q16.  Write a code to create a set with the elements 'a', 'b', 'c' and print it."
      ],
      "metadata": {
        "id": "WfT8SsHCptGD"
      }
    },
    {
      "cell_type": "code",
      "source": [
        "set = {'a', 'b', 'c'}\n",
        "print(set)"
      ],
      "metadata": {
        "id": "waGtGGBsptTu",
        "colab": {
          "base_uri": "https://localhost:8080/"
        },
        "outputId": "990e30bf-92a9-4042-944a-67206194007e"
      },
      "execution_count": null,
      "outputs": [
        {
          "output_type": "stream",
          "name": "stdout",
          "text": [
            "{'a', 'b', 'c'}\n"
          ]
        }
      ]
    },
    {
      "cell_type": "markdown",
      "source": [
        "Q17.Write a code to clear all elements from the set {1, 2, 3, 4, 5}."
      ],
      "metadata": {
        "id": "BwJU9iVZptg3"
      }
    },
    {
      "cell_type": "code",
      "source": [
        "set = {1, 2, 3, 4, 5}\n",
        "set.clear()\n",
        "print(set)"
      ],
      "metadata": {
        "id": "w0pnAxRXptyN",
        "colab": {
          "base_uri": "https://localhost:8080/"
        },
        "outputId": "e49d65ac-d476-4e75-9ba5-9e4078112eed"
      },
      "execution_count": null,
      "outputs": [
        {
          "output_type": "stream",
          "name": "stdout",
          "text": [
            "set()\n"
          ]
        }
      ]
    },
    {
      "cell_type": "markdown",
      "source": [
        "Q18. Write a code to remove the element 4 from the set {1, 2, 3, 4}."
      ],
      "metadata": {
        "id": "c-623UZDpuAC"
      }
    },
    {
      "cell_type": "code",
      "source": [
        "set = {1, 2, 3, 4}\n",
        "set.remove(4)\n",
        "print(set)"
      ],
      "metadata": {
        "id": "9s6ObLaApuT7",
        "colab": {
          "base_uri": "https://localhost:8080/"
        },
        "outputId": "70206618-12e7-4e6f-a50a-f72cbd2d5069"
      },
      "execution_count": null,
      "outputs": [
        {
          "output_type": "stream",
          "name": "stdout",
          "text": [
            "{1, 2, 3}\n"
          ]
        }
      ]
    },
    {
      "cell_type": "markdown",
      "source": [
        "Q19. Write a code to find the union of two sets {1, 2, 3} and {3, 4, 5}."
      ],
      "metadata": {
        "id": "1M-xCollpuh9"
      }
    },
    {
      "cell_type": "code",
      "source": [
        "set1 =  {1, 2, 3}\n",
        "set2 = {3, 4, 5}\n",
        "print(set1 | set2)\n"
      ],
      "metadata": {
        "id": "d_Bw-8TMpuyD",
        "colab": {
          "base_uri": "https://localhost:8080/"
        },
        "outputId": "fa81fe7e-0499-4922-9abc-6e211d459c2b"
      },
      "execution_count": null,
      "outputs": [
        {
          "output_type": "stream",
          "name": "stdout",
          "text": [
            "{1, 2, 3, 4, 5}\n"
          ]
        }
      ]
    },
    {
      "cell_type": "markdown",
      "source": [
        "Q20.  Write a code to find the intersection of two sets {1, 2, 3} and {2, 3, 4}."
      ],
      "metadata": {
        "id": "H1l0E6K8pvAH"
      }
    },
    {
      "cell_type": "code",
      "source": [
        "set1 =  {1, 2, 3}\n",
        "set2 = {2, 3, 4}\n",
        "print(set1 & set2)"
      ],
      "metadata": {
        "id": "eRMmJ96EpvOl",
        "colab": {
          "base_uri": "https://localhost:8080/"
        },
        "outputId": "015a00c6-decd-4215-cdff-da532533c47f"
      },
      "execution_count": null,
      "outputs": [
        {
          "output_type": "stream",
          "name": "stdout",
          "text": [
            "{2, 3}\n"
          ]
        }
      ]
    },
    {
      "cell_type": "markdown",
      "source": [
        "Q21. Write a code to create a dictionary with the keys \"name\", \"age\", and \"city\", and print it."
      ],
      "metadata": {
        "id": "nP-PCQIlpvcq"
      }
    },
    {
      "cell_type": "code",
      "source": [
        "dict = {'name': 'vishal', 'age': 30, 'city': 'Nashik'} # crating the dictionary\n",
        "print(dict)  # print the dictionary\n"
      ],
      "metadata": {
        "id": "j3cdpJC6pvq8",
        "colab": {
          "base_uri": "https://localhost:8080/"
        },
        "outputId": "142b78cf-88f6-44ac-babe-8a02d699c6c5"
      },
      "execution_count": null,
      "outputs": [
        {
          "output_type": "stream",
          "name": "stdout",
          "text": [
            "{'name': 'vishal', 'age': 30, 'city': 'Nashik'}\n"
          ]
        }
      ]
    },
    {
      "cell_type": "markdown",
      "source": [
        "Q22. Write a code to add a new key-value pair \"country\": \"USA\" to the dictionary {'name': 'John', 'age': 25}."
      ],
      "metadata": {
        "id": "SQ5VPPx6pv5O"
      }
    },
    {
      "cell_type": "code",
      "source": [
        "dict = {'name': 'John', 'age': 25}\n",
        "dict['country'] = 'USA'  # add country : USA\n",
        "print(dict)"
      ],
      "metadata": {
        "id": "mmKd__vqpwHf",
        "colab": {
          "base_uri": "https://localhost:8080/"
        },
        "outputId": "3e716617-9ab0-4e28-ac86-2d0cc1a3c743"
      },
      "execution_count": null,
      "outputs": [
        {
          "output_type": "stream",
          "name": "stdout",
          "text": [
            "{'name': 'John', 'age': 25, 'country': 'USA'}\n"
          ]
        }
      ]
    },
    {
      "cell_type": "markdown",
      "source": [
        "Q23. Write a code to access the value associated with the key \"name\" in the dictionary {'name': 'Alice', 'age': 30}."
      ],
      "metadata": {
        "id": "o36_nNJCpwV5"
      }
    },
    {
      "cell_type": "code",
      "source": [
        "dict = {'name': 'Alice', 'age': 30}\n",
        "print(dict['name'])\n"
      ],
      "metadata": {
        "id": "1GAWXGSWpwjk",
        "colab": {
          "base_uri": "https://localhost:8080/"
        },
        "outputId": "292e186a-b545-4acb-8b07-14cdbe550c14"
      },
      "execution_count": null,
      "outputs": [
        {
          "output_type": "stream",
          "name": "stdout",
          "text": [
            "Alice\n"
          ]
        }
      ]
    },
    {
      "cell_type": "markdown",
      "source": [
        "Q24.  Write a code to remove the key \"age\" from the dictionary {'name': 'Bob', 'age': 22, 'city': 'New York'}."
      ],
      "metadata": {
        "id": "XtWwC11Gpwxa"
      }
    },
    {
      "cell_type": "code",
      "source": [
        "dict = {'name': 'Bob', 'age': 22, 'city': 'New York'}\n",
        "del dict['age']   # delete the age from dictionary\n",
        "print(dict)"
      ],
      "metadata": {
        "id": "vdUfgM98pw_H",
        "colab": {
          "base_uri": "https://localhost:8080/"
        },
        "outputId": "2e3b1380-f077-4268-f54f-d023202018f9"
      },
      "execution_count": null,
      "outputs": [
        {
          "output_type": "stream",
          "name": "stdout",
          "text": [
            "{'name': 'Bob', 'city': 'New York'}\n"
          ]
        }
      ]
    },
    {
      "cell_type": "markdown",
      "source": [
        "Q25. Write a code to check if the key \"city\" exists in the dictionary {'name': 'Alice', 'city': 'Paris'}."
      ],
      "metadata": {
        "id": "9LDK4oGfpxNK"
      }
    },
    {
      "cell_type": "code",
      "source": [
        "dict = {'name': 'Alice', 'city': 'Paris'}\n",
        "print('city' in dict)"
      ],
      "metadata": {
        "id": "nvnYcpNbpxbh",
        "colab": {
          "base_uri": "https://localhost:8080/"
        },
        "outputId": "721bdabf-4378-4b89-8106-5c0a8ea12cd6"
      },
      "execution_count": null,
      "outputs": [
        {
          "output_type": "stream",
          "name": "stdout",
          "text": [
            "True\n"
          ]
        }
      ]
    },
    {
      "cell_type": "markdown",
      "source": [
        "Q26. Write a code to create a list, a tuple, and a dictionary, and print them all."
      ],
      "metadata": {
        "id": "8kUS1ddfpxrA"
      }
    },
    {
      "cell_type": "code",
      "source": [
        "list = ['a','b','c','d']\n",
        "tuple = ('red' , 'green', 'blue', 'yellow')\n",
        "dict = {'name': 'vishal', 'age': 30, 'city': 'Nashik'}\n",
        "\n",
        "print(list, tuple, dict)        #  print all at a time\n"
      ],
      "metadata": {
        "id": "l9CqJ5P4px-T",
        "colab": {
          "base_uri": "https://localhost:8080/"
        },
        "outputId": "34b27301-c9f7-4a8e-d900-bbef15a71a1a"
      },
      "execution_count": null,
      "outputs": [
        {
          "output_type": "stream",
          "name": "stdout",
          "text": [
            "['a', 'b', 'c', 'd'] ('red', 'green', 'blue', 'yellow') {'name': 'vishal', 'age': 30, 'city': 'Nashik'}\n"
          ]
        }
      ]
    },
    {
      "cell_type": "code",
      "source": [
        "list = ['a','b','c','d']\n",
        "tuple = ('red' , 'green', 'blue', 'yellow')\n",
        "dict = {'name': 'vishal', 'age': 30, 'city': 'Nashik'}\n",
        "\n",
        "print(list)       # print all seperatelly\n",
        "print(tuple)\n",
        "print(dict)"
      ],
      "metadata": {
        "colab": {
          "base_uri": "https://localhost:8080/"
        },
        "id": "fct9FFTHh2xS",
        "outputId": "86c7513c-202d-44f8-8f4f-34ae2193e979"
      },
      "execution_count": null,
      "outputs": [
        {
          "output_type": "stream",
          "name": "stdout",
          "text": [
            "['a', 'b', 'c', 'd']\n",
            "('red', 'green', 'blue', 'yellow')\n",
            "{'name': 'vishal', 'age': 30, 'city': 'Nashik'}\n"
          ]
        }
      ]
    },
    {
      "cell_type": "markdown",
      "source": [
        "Q27. Write a code to create a list of 5 random numbers between 1 and 100, sort it in ascending order, and print the\n",
        "result.(replaced)"
      ],
      "metadata": {
        "id": "wJ2xyP16pyTu"
      }
    },
    {
      "cell_type": "code",
      "source": [
        "import random\n",
        "# Generate a list of 5 random numbers between 1 and 100\n",
        "random_numbers = [random.randint(1, 100) for _ in range(5)]\n",
        "\n",
        "# Sort the list in ascending order\n",
        "random_numbers.sort()\n",
        "\n",
        "# Print the sorted list\n",
        "print(\"Sorted random numbers:\", random_numbers)"
      ],
      "metadata": {
        "id": "_mVGufJ9pyk6",
        "colab": {
          "base_uri": "https://localhost:8080/"
        },
        "outputId": "5ff602e0-883b-4f10-9914-6500b89e2b15"
      },
      "execution_count": null,
      "outputs": [
        {
          "output_type": "stream",
          "name": "stdout",
          "text": [
            "Sorted random numbers: [5, 19, 35, 73, 82]\n"
          ]
        }
      ]
    },
    {
      "cell_type": "markdown",
      "source": [
        "Q28. Write a code to create a list with strings and print the element at the third index."
      ],
      "metadata": {
        "id": "sjouLqbBpyy0"
      }
    },
    {
      "cell_type": "code",
      "source": [
        "string_list = [\"apple\", \"banana\", \"cherry\", \"date\", \"elderberry\"]\n",
        "print(\"Element at index 3:\", string_list[3])"
      ],
      "metadata": {
        "id": "3OrAas16t0S_",
        "colab": {
          "base_uri": "https://localhost:8080/"
        },
        "outputId": "1aef3437-a708-4c2b-be5b-28bcff6f0273"
      },
      "execution_count": null,
      "outputs": [
        {
          "output_type": "stream",
          "name": "stdout",
          "text": [
            "Element at index 3: date\n"
          ]
        }
      ]
    },
    {
      "cell_type": "markdown",
      "source": [
        "Q29. Write a code to combine two dictionaries into one and print the result."
      ],
      "metadata": {
        "id": "SRlMKqrYt0yq"
      }
    },
    {
      "cell_type": "code",
      "source": [
        "dict1 = {'first_name': 'John', 'age': 25}\n",
        "dict2 = {'last_name': 'Alice', 'city': 'Paris'}\n",
        "combined_dict = {**dict1, **dict2}\n",
        "print(\"Combined dictionary:\", combined_dict)"
      ],
      "metadata": {
        "id": "7ph0sMjFt1Gh",
        "colab": {
          "base_uri": "https://localhost:8080/"
        },
        "outputId": "866c3773-655b-435a-b5db-b2a6705d591a"
      },
      "execution_count": null,
      "outputs": [
        {
          "output_type": "stream",
          "name": "stdout",
          "text": [
            "Combined dictionary: {'first_name': 'John', 'age': 25, 'last_name': 'Alice', 'city': 'Paris'}\n"
          ]
        }
      ]
    },
    {
      "cell_type": "markdown",
      "source": [
        "Q30. Write a code to convert a list of strings into a set."
      ],
      "metadata": {
        "id": "uqMDREP6t1Vw"
      }
    },
    {
      "cell_type": "code",
      "source": [
        "# Ensure 'set' is not redefined\n",
        "del set  # This restores the built-in set function if it was overridden\n",
        "\n",
        "# Create a list with duplicate strings\n",
        "string_list = [\"apple\", \"banana\", \"cherry\", \"apple\", \"date\"]\n",
        "\n",
        "# Convert the list into a set to remove duplicates\n",
        "string_set = set(string_list)\n",
        "\n",
        "# Print the resulting set\n",
        "print(\"Set from list:\", string_set)\n"
      ],
      "metadata": {
        "colab": {
          "base_uri": "https://localhost:8080/"
        },
        "id": "nErk6dmamTtu",
        "outputId": "08ff1608-8862-4933-c52b-ed5858b96874"
      },
      "execution_count": null,
      "outputs": [
        {
          "output_type": "stream",
          "name": "stdout",
          "text": [
            "Set from list: {'banana', 'apple', 'cherry', 'date'}\n"
          ]
        }
      ]
    }
  ]
}